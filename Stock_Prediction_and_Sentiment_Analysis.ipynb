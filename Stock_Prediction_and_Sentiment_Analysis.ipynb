{
  "nbformat": 4,
  "nbformat_minor": 0,
  "metadata": {
    "colab": {
      "name": "Stock Prediction and Sentiment Analysis.ipynb",
      "provenance": [],
      "collapsed_sections": []
    },
    "kernelspec": {
      "name": "python3",
      "display_name": "Python 3"
    },
    "language_info": {
      "name": "python"
    }
  },
  "cells": [
    {
      "cell_type": "markdown",
      "metadata": {
        "id": "fNaHYHcP-Oyy"
      },
      "source": [
        "# The Spark Foundation and GRIP Task\n"
      ]
    },
    {
      "cell_type": "markdown",
      "metadata": {
        "id": "iwzs2FyQ-T2a"
      },
      "source": [
        "# Author : Diksha Babhulkar"
      ]
    },
    {
      "cell_type": "markdown",
      "metadata": {
        "id": "LWVQKwd9-ZdL"
      },
      "source": [
        "<big>Task 7: Stock Market Prediction using Numerical and Textual Analysis\n",
        "\n",
        "Objective: Create a hybrid model for stock price/performance \n",
        "prediction using numerical analysis of historical stock prices, and \n",
        "sentimental analysis of news headlines \n",
        "    \n",
        "* Stock to analyze and predict - SENSEX (S&P BSE SENSEX)\n",
        "</big>"
      ]
    },
    {
      "cell_type": "code",
      "metadata": {
        "id": "Y8CAkZlW-HOg"
      },
      "source": [
        "import pandas_datareader as dr\n",
        "import matplotlib.pyplot as plt\n",
        "import pandas as pd\n",
        "import datetime\n",
        "import numpy as np\n",
        "import warnings\n",
        "warnings.simplefilter(\"ignore\")\n",
        "%matplotlib inline"
      ],
      "execution_count": 1,
      "outputs": []
    },
    {
      "cell_type": "code",
      "metadata": {
        "colab": {
          "base_uri": "https://localhost:8080/",
          "height": 431
        },
        "id": "14EZsvFf-cUG",
        "outputId": "b93b1499-7b47-4c9b-ca99-ce12724119a7"
      },
      "source": [
        "df=dr.data.get_data_yahoo('TATASTEEL.NS',start='2016-04-15',end='2021-04-15')\n",
        "df"
      ],
      "execution_count": 2,
      "outputs": [
        {
          "output_type": "execute_result",
          "data": {
            "text/html": [
              "<div>\n",
              "<style scoped>\n",
              "    .dataframe tbody tr th:only-of-type {\n",
              "        vertical-align: middle;\n",
              "    }\n",
              "\n",
              "    .dataframe tbody tr th {\n",
              "        vertical-align: top;\n",
              "    }\n",
              "\n",
              "    .dataframe thead th {\n",
              "        text-align: right;\n",
              "    }\n",
              "</style>\n",
              "<table border=\"1\" class=\"dataframe\">\n",
              "  <thead>\n",
              "    <tr style=\"text-align: right;\">\n",
              "      <th></th>\n",
              "      <th>High</th>\n",
              "      <th>Low</th>\n",
              "      <th>Open</th>\n",
              "      <th>Close</th>\n",
              "      <th>Volume</th>\n",
              "      <th>Adj Close</th>\n",
              "    </tr>\n",
              "    <tr>\n",
              "      <th>Date</th>\n",
              "      <th></th>\n",
              "      <th></th>\n",
              "      <th></th>\n",
              "      <th></th>\n",
              "      <th></th>\n",
              "      <th></th>\n",
              "    </tr>\n",
              "  </thead>\n",
              "  <tbody>\n",
              "    <tr>\n",
              "      <th>2016-04-18</th>\n",
              "      <td>321.310425</td>\n",
              "      <td>312.164154</td>\n",
              "      <td>316.213287</td>\n",
              "      <td>319.690765</td>\n",
              "      <td>7549816.0</td>\n",
              "      <td>286.675140</td>\n",
              "    </tr>\n",
              "    <tr>\n",
              "      <th>2016-04-20</th>\n",
              "      <td>342.318268</td>\n",
              "      <td>321.739166</td>\n",
              "      <td>321.977356</td>\n",
              "      <td>340.555725</td>\n",
              "      <td>19294099.0</td>\n",
              "      <td>305.385284</td>\n",
              "    </tr>\n",
              "    <tr>\n",
              "      <th>2016-04-21</th>\n",
              "      <td>346.843781</td>\n",
              "      <td>336.411316</td>\n",
              "      <td>341.841919</td>\n",
              "      <td>337.792786</td>\n",
              "      <td>10864121.0</td>\n",
              "      <td>302.907715</td>\n",
              "    </tr>\n",
              "    <tr>\n",
              "      <th>2016-04-22</th>\n",
              "      <td>346.557953</td>\n",
              "      <td>335.649109</td>\n",
              "      <td>341.079712</td>\n",
              "      <td>336.935303</td>\n",
              "      <td>12695922.0</td>\n",
              "      <td>302.138794</td>\n",
              "    </tr>\n",
              "    <tr>\n",
              "      <th>2016-04-25</th>\n",
              "      <td>336.982941</td>\n",
              "      <td>328.265411</td>\n",
              "      <td>335.839661</td>\n",
              "      <td>331.028351</td>\n",
              "      <td>6465189.0</td>\n",
              "      <td>296.841888</td>\n",
              "    </tr>\n",
              "    <tr>\n",
              "      <th>...</th>\n",
              "      <td>...</td>\n",
              "      <td>...</td>\n",
              "      <td>...</td>\n",
              "      <td>...</td>\n",
              "      <td>...</td>\n",
              "      <td>...</td>\n",
              "    </tr>\n",
              "    <tr>\n",
              "      <th>2021-04-08</th>\n",
              "      <td>953.650024</td>\n",
              "      <td>882.700012</td>\n",
              "      <td>884.000000</td>\n",
              "      <td>918.400024</td>\n",
              "      <td>53063056.0</td>\n",
              "      <td>918.400024</td>\n",
              "    </tr>\n",
              "    <tr>\n",
              "      <th>2021-04-09</th>\n",
              "      <td>930.000000</td>\n",
              "      <td>885.700012</td>\n",
              "      <td>921.000000</td>\n",
              "      <td>899.500000</td>\n",
              "      <td>32179069.0</td>\n",
              "      <td>899.500000</td>\n",
              "    </tr>\n",
              "    <tr>\n",
              "      <th>2021-04-12</th>\n",
              "      <td>893.200012</td>\n",
              "      <td>843.349976</td>\n",
              "      <td>876.549988</td>\n",
              "      <td>851.549988</td>\n",
              "      <td>22135504.0</td>\n",
              "      <td>851.549988</td>\n",
              "    </tr>\n",
              "    <tr>\n",
              "      <th>2021-04-13</th>\n",
              "      <td>881.599976</td>\n",
              "      <td>849.000000</td>\n",
              "      <td>862.000000</td>\n",
              "      <td>879.000000</td>\n",
              "      <td>20428502.0</td>\n",
              "      <td>879.000000</td>\n",
              "    </tr>\n",
              "    <tr>\n",
              "      <th>2021-04-15</th>\n",
              "      <td>911.500000</td>\n",
              "      <td>879.500000</td>\n",
              "      <td>892.000000</td>\n",
              "      <td>898.200012</td>\n",
              "      <td>21847549.0</td>\n",
              "      <td>898.200012</td>\n",
              "    </tr>\n",
              "  </tbody>\n",
              "</table>\n",
              "<p>1232 rows × 6 columns</p>\n",
              "</div>"
            ],
            "text/plain": [
              "                  High         Low  ...      Volume   Adj Close\n",
              "Date                                ...                        \n",
              "2016-04-18  321.310425  312.164154  ...   7549816.0  286.675140\n",
              "2016-04-20  342.318268  321.739166  ...  19294099.0  305.385284\n",
              "2016-04-21  346.843781  336.411316  ...  10864121.0  302.907715\n",
              "2016-04-22  346.557953  335.649109  ...  12695922.0  302.138794\n",
              "2016-04-25  336.982941  328.265411  ...   6465189.0  296.841888\n",
              "...                ...         ...  ...         ...         ...\n",
              "2021-04-08  953.650024  882.700012  ...  53063056.0  918.400024\n",
              "2021-04-09  930.000000  885.700012  ...  32179069.0  899.500000\n",
              "2021-04-12  893.200012  843.349976  ...  22135504.0  851.549988\n",
              "2021-04-13  881.599976  849.000000  ...  20428502.0  879.000000\n",
              "2021-04-15  911.500000  879.500000  ...  21847549.0  898.200012\n",
              "\n",
              "[1232 rows x 6 columns]"
            ]
          },
          "metadata": {
            "tags": []
          },
          "execution_count": 2
        }
      ]
    },
    {
      "cell_type": "code",
      "metadata": {
        "colab": {
          "base_uri": "https://localhost:8080/"
        },
        "id": "bTUPFxs0-hJG",
        "outputId": "f336e476-5910-48e4-ad14-c0497a45fdab"
      },
      "source": [
        "df.shape"
      ],
      "execution_count": 3,
      "outputs": [
        {
          "output_type": "execute_result",
          "data": {
            "text/plain": [
              "(1232, 6)"
            ]
          },
          "metadata": {
            "tags": []
          },
          "execution_count": 3
        }
      ]
    },
    {
      "cell_type": "code",
      "metadata": {
        "colab": {
          "base_uri": "https://localhost:8080/",
          "height": 225
        },
        "id": "vkpX2wvN-jXe",
        "outputId": "bcadfc74-085e-41df-efbe-56a6246cf12a"
      },
      "source": [
        "df.head()"
      ],
      "execution_count": 4,
      "outputs": [
        {
          "output_type": "execute_result",
          "data": {
            "text/html": [
              "<div>\n",
              "<style scoped>\n",
              "    .dataframe tbody tr th:only-of-type {\n",
              "        vertical-align: middle;\n",
              "    }\n",
              "\n",
              "    .dataframe tbody tr th {\n",
              "        vertical-align: top;\n",
              "    }\n",
              "\n",
              "    .dataframe thead th {\n",
              "        text-align: right;\n",
              "    }\n",
              "</style>\n",
              "<table border=\"1\" class=\"dataframe\">\n",
              "  <thead>\n",
              "    <tr style=\"text-align: right;\">\n",
              "      <th></th>\n",
              "      <th>High</th>\n",
              "      <th>Low</th>\n",
              "      <th>Open</th>\n",
              "      <th>Close</th>\n",
              "      <th>Volume</th>\n",
              "      <th>Adj Close</th>\n",
              "    </tr>\n",
              "    <tr>\n",
              "      <th>Date</th>\n",
              "      <th></th>\n",
              "      <th></th>\n",
              "      <th></th>\n",
              "      <th></th>\n",
              "      <th></th>\n",
              "      <th></th>\n",
              "    </tr>\n",
              "  </thead>\n",
              "  <tbody>\n",
              "    <tr>\n",
              "      <th>2016-04-18</th>\n",
              "      <td>321.310425</td>\n",
              "      <td>312.164154</td>\n",
              "      <td>316.213287</td>\n",
              "      <td>319.690765</td>\n",
              "      <td>7549816.0</td>\n",
              "      <td>286.675140</td>\n",
              "    </tr>\n",
              "    <tr>\n",
              "      <th>2016-04-20</th>\n",
              "      <td>342.318268</td>\n",
              "      <td>321.739166</td>\n",
              "      <td>321.977356</td>\n",
              "      <td>340.555725</td>\n",
              "      <td>19294099.0</td>\n",
              "      <td>305.385284</td>\n",
              "    </tr>\n",
              "    <tr>\n",
              "      <th>2016-04-21</th>\n",
              "      <td>346.843781</td>\n",
              "      <td>336.411316</td>\n",
              "      <td>341.841919</td>\n",
              "      <td>337.792786</td>\n",
              "      <td>10864121.0</td>\n",
              "      <td>302.907715</td>\n",
              "    </tr>\n",
              "    <tr>\n",
              "      <th>2016-04-22</th>\n",
              "      <td>346.557953</td>\n",
              "      <td>335.649109</td>\n",
              "      <td>341.079712</td>\n",
              "      <td>336.935303</td>\n",
              "      <td>12695922.0</td>\n",
              "      <td>302.138794</td>\n",
              "    </tr>\n",
              "    <tr>\n",
              "      <th>2016-04-25</th>\n",
              "      <td>336.982941</td>\n",
              "      <td>328.265411</td>\n",
              "      <td>335.839661</td>\n",
              "      <td>331.028351</td>\n",
              "      <td>6465189.0</td>\n",
              "      <td>296.841888</td>\n",
              "    </tr>\n",
              "  </tbody>\n",
              "</table>\n",
              "</div>"
            ],
            "text/plain": [
              "                  High         Low  ...      Volume   Adj Close\n",
              "Date                                ...                        \n",
              "2016-04-18  321.310425  312.164154  ...   7549816.0  286.675140\n",
              "2016-04-20  342.318268  321.739166  ...  19294099.0  305.385284\n",
              "2016-04-21  346.843781  336.411316  ...  10864121.0  302.907715\n",
              "2016-04-22  346.557953  335.649109  ...  12695922.0  302.138794\n",
              "2016-04-25  336.982941  328.265411  ...   6465189.0  296.841888\n",
              "\n",
              "[5 rows x 6 columns]"
            ]
          },
          "metadata": {
            "tags": []
          },
          "execution_count": 4
        }
      ]
    },
    {
      "cell_type": "code",
      "metadata": {
        "colab": {
          "base_uri": "https://localhost:8080/",
          "height": 225
        },
        "id": "aNWwDhfN-mgk",
        "outputId": "bdc39b0c-631a-4988-b432-18d64ad977b7"
      },
      "source": [
        "df.tail()"
      ],
      "execution_count": 5,
      "outputs": [
        {
          "output_type": "execute_result",
          "data": {
            "text/html": [
              "<div>\n",
              "<style scoped>\n",
              "    .dataframe tbody tr th:only-of-type {\n",
              "        vertical-align: middle;\n",
              "    }\n",
              "\n",
              "    .dataframe tbody tr th {\n",
              "        vertical-align: top;\n",
              "    }\n",
              "\n",
              "    .dataframe thead th {\n",
              "        text-align: right;\n",
              "    }\n",
              "</style>\n",
              "<table border=\"1\" class=\"dataframe\">\n",
              "  <thead>\n",
              "    <tr style=\"text-align: right;\">\n",
              "      <th></th>\n",
              "      <th>High</th>\n",
              "      <th>Low</th>\n",
              "      <th>Open</th>\n",
              "      <th>Close</th>\n",
              "      <th>Volume</th>\n",
              "      <th>Adj Close</th>\n",
              "    </tr>\n",
              "    <tr>\n",
              "      <th>Date</th>\n",
              "      <th></th>\n",
              "      <th></th>\n",
              "      <th></th>\n",
              "      <th></th>\n",
              "      <th></th>\n",
              "      <th></th>\n",
              "    </tr>\n",
              "  </thead>\n",
              "  <tbody>\n",
              "    <tr>\n",
              "      <th>2021-04-08</th>\n",
              "      <td>953.650024</td>\n",
              "      <td>882.700012</td>\n",
              "      <td>884.000000</td>\n",
              "      <td>918.400024</td>\n",
              "      <td>53063056.0</td>\n",
              "      <td>918.400024</td>\n",
              "    </tr>\n",
              "    <tr>\n",
              "      <th>2021-04-09</th>\n",
              "      <td>930.000000</td>\n",
              "      <td>885.700012</td>\n",
              "      <td>921.000000</td>\n",
              "      <td>899.500000</td>\n",
              "      <td>32179069.0</td>\n",
              "      <td>899.500000</td>\n",
              "    </tr>\n",
              "    <tr>\n",
              "      <th>2021-04-12</th>\n",
              "      <td>893.200012</td>\n",
              "      <td>843.349976</td>\n",
              "      <td>876.549988</td>\n",
              "      <td>851.549988</td>\n",
              "      <td>22135504.0</td>\n",
              "      <td>851.549988</td>\n",
              "    </tr>\n",
              "    <tr>\n",
              "      <th>2021-04-13</th>\n",
              "      <td>881.599976</td>\n",
              "      <td>849.000000</td>\n",
              "      <td>862.000000</td>\n",
              "      <td>879.000000</td>\n",
              "      <td>20428502.0</td>\n",
              "      <td>879.000000</td>\n",
              "    </tr>\n",
              "    <tr>\n",
              "      <th>2021-04-15</th>\n",
              "      <td>911.500000</td>\n",
              "      <td>879.500000</td>\n",
              "      <td>892.000000</td>\n",
              "      <td>898.200012</td>\n",
              "      <td>21847549.0</td>\n",
              "      <td>898.200012</td>\n",
              "    </tr>\n",
              "  </tbody>\n",
              "</table>\n",
              "</div>"
            ],
            "text/plain": [
              "                  High         Low  ...      Volume   Adj Close\n",
              "Date                                ...                        \n",
              "2021-04-08  953.650024  882.700012  ...  53063056.0  918.400024\n",
              "2021-04-09  930.000000  885.700012  ...  32179069.0  899.500000\n",
              "2021-04-12  893.200012  843.349976  ...  22135504.0  851.549988\n",
              "2021-04-13  881.599976  849.000000  ...  20428502.0  879.000000\n",
              "2021-04-15  911.500000  879.500000  ...  21847549.0  898.200012\n",
              "\n",
              "[5 rows x 6 columns]"
            ]
          },
          "metadata": {
            "tags": []
          },
          "execution_count": 5
        }
      ]
    },
    {
      "cell_type": "code",
      "metadata": {
        "colab": {
          "base_uri": "https://localhost:8080/"
        },
        "id": "QIH85oAa-nco",
        "outputId": "317e0da9-14a0-4955-fefa-5ad687656a22"
      },
      "source": [
        "df.info()"
      ],
      "execution_count": 6,
      "outputs": [
        {
          "output_type": "stream",
          "text": [
            "<class 'pandas.core.frame.DataFrame'>\n",
            "DatetimeIndex: 1232 entries, 2016-04-18 to 2021-04-15\n",
            "Data columns (total 6 columns):\n",
            " #   Column     Non-Null Count  Dtype  \n",
            "---  ------     --------------  -----  \n",
            " 0   High       1232 non-null   float64\n",
            " 1   Low        1232 non-null   float64\n",
            " 2   Open       1232 non-null   float64\n",
            " 3   Close      1232 non-null   float64\n",
            " 4   Volume     1232 non-null   float64\n",
            " 5   Adj Close  1232 non-null   float64\n",
            "dtypes: float64(6)\n",
            "memory usage: 67.4 KB\n"
          ],
          "name": "stdout"
        }
      ]
    },
    {
      "cell_type": "code",
      "metadata": {
        "colab": {
          "base_uri": "https://localhost:8080/"
        },
        "id": "S8AQi1Vu-o_H",
        "outputId": "24bdf910-8315-4780-e834-06b0f0bf030e"
      },
      "source": [
        "df.isnull().sum()"
      ],
      "execution_count": 7,
      "outputs": [
        {
          "output_type": "execute_result",
          "data": {
            "text/plain": [
              "High         0\n",
              "Low          0\n",
              "Open         0\n",
              "Close        0\n",
              "Volume       0\n",
              "Adj Close    0\n",
              "dtype: int64"
            ]
          },
          "metadata": {
            "tags": []
          },
          "execution_count": 7
        }
      ]
    },
    {
      "cell_type": "code",
      "metadata": {
        "colab": {
          "base_uri": "https://localhost:8080/",
          "height": 521
        },
        "id": "EpyGH_nv-tKu",
        "outputId": "97fc759a-a68c-4c1b-a12b-ccd58bd9d82b"
      },
      "source": [
        "plt.figure(figsize=(12,8))\n",
        "plt.title('Close price history')\n",
        "plt.plot(df['Close'])\n",
        "plt.xlabel('Date',fontsize=18)\n",
        "plt.ylabel('Close price Rupees',fontsize=18)\n",
        "plt.show()"
      ],
      "execution_count": 8,
      "outputs": [
        {
          "output_type": "display_data",
          "data": {
            "image/png": "[encoded data removed]",
            "text/plain": [
              "<Figure size 864x576 with 1 Axes>"
            ]
          },
          "metadata": {
            "tags": [],
            "needs_background": "light"
          }
        }
      ]
    },
    {
      "cell_type": "code",
      "metadata": {
        "colab": {
          "base_uri": "https://localhost:8080/"
        },
        "id": "EPI4M34v-vtO",
        "outputId": "e6bf9d3f-45ed-4702-8356-19d8b6ee7afd"
      },
      "source": [
        "data=df.filter(['Close'])\n",
        "df_1=data.values\n",
        "len(df_1)"
      ],
      "execution_count": 9,
      "outputs": [
        {
          "output_type": "execute_result",
          "data": {
            "text/plain": [
              "1232"
            ]
          },
          "metadata": {
            "tags": []
          },
          "execution_count": 9
        }
      ]
    },
    {
      "cell_type": "code",
      "metadata": {
        "id": "DqCils1G-7fU"
      },
      "source": [
        "import math"
      ],
      "execution_count": 10,
      "outputs": []
    },
    {
      "cell_type": "code",
      "metadata": {
        "colab": {
          "base_uri": "https://localhost:8080/"
        },
        "id": "GfPjXz2C-9JV",
        "outputId": "b6869103-f394-4aab-88dd-942651579212"
      },
      "source": [
        "train_size=math.ceil(len(df_1)*.7)\n",
        "train_size"
      ],
      "execution_count": 11,
      "outputs": [
        {
          "output_type": "execute_result",
          "data": {
            "text/plain": [
              "863"
            ]
          },
          "metadata": {
            "tags": []
          },
          "execution_count": 11
        }
      ]
    },
    {
      "cell_type": "code",
      "metadata": {
        "colab": {
          "base_uri": "https://localhost:8080/"
        },
        "id": "4Y-yL0TJ--9L",
        "outputId": "f24deb23-7d54-4bcb-f82d-85f84c062237"
      },
      "source": [
        "from sklearn.preprocessing import MinMaxScaler\n",
        "scaler=MinMaxScaler(feature_range=(0,1))\n",
        "scaled=scaler.fit_transform(df_1)\n",
        "scaled"
      ],
      "execution_count": 12,
      "outputs": [
        {
          "output_type": "execute_result",
          "data": {
            "text/plain": [
              "array([[0.09921126],\n",
              "       [0.13060366],\n",
              "       [0.12644668],\n",
              "       ...,\n",
              "       [0.8994207 ],\n",
              "       [0.94072065],\n",
              "       [0.96960805]])"
            ]
          },
          "metadata": {
            "tags": []
          },
          "execution_count": 12
        }
      ]
    },
    {
      "cell_type": "code",
      "metadata": {
        "colab": {
          "base_uri": "https://localhost:8080/"
        },
        "id": "CRtmzcJS_Bil",
        "outputId": "6bf70867-49ae-473b-ed42-e5497bb547ed"
      },
      "source": [
        "train_data=scaled[0:train_size,:]\n",
        "x_train=[]\n",
        "y_train=[]\n",
        "for i in range(60,len(train_data)):\n",
        "\tx_train.append(train_data[i-60:i,0])\n",
        "\ty_train.append(train_data[i,0])\n",
        "\n",
        "\tif i<=61:\n",
        "\t\tprint(x_train)\n",
        "\t\tprint(y_train)"
      ],
      "execution_count": 13,
      "outputs": [
        {
          "output_type": "stream",
          "text": [
            "[array([0.09921126, 0.13060366, 0.12644668, 0.12515655, 0.11626924,\n",
            "       0.13225211, 0.12960023, 0.11648426, 0.12150128, 0.1155525 ,\n",
            "       0.11834773, 0.08946386, 0.09383587, 0.09025227, 0.08939219,\n",
            "       0.08846048, 0.09096901, 0.09211574, 0.0807199 , 0.08609529,\n",
            "       0.0871704 , 0.0898939 , 0.08588027, 0.0807199 , 0.06767556,\n",
            "       0.07362434, 0.08351508, 0.08437517, 0.09068232, 0.08028986,\n",
            "       0.09749114, 0.09433758, 0.10652184, 0.10351159, 0.1025082 ,\n",
            "       0.10931702, 0.10774025, 0.10852866, 0.09756281, 0.08136492,\n",
            "       0.0840168 , 0.09161403, 0.0919724 , 0.08473353, 0.10021469,\n",
            "       0.09706114, 0.09476763, 0.09691779, 0.06638548, 0.0633036 ,\n",
            "       0.06473703, 0.06774723, 0.07971647, 0.08853215, 0.0930475 ,\n",
            "       0.09648775, 0.07362434, 0.0745561 , 0.08695537, 0.10888703])]\n",
            "[0.13103365533398487]\n",
            "[array([0.09921126, 0.13060366, 0.12644668, 0.12515655, 0.11626924,\n",
            "       0.13225211, 0.12960023, 0.11648426, 0.12150128, 0.1155525 ,\n",
            "       0.11834773, 0.08946386, 0.09383587, 0.09025227, 0.08939219,\n",
            "       0.08846048, 0.09096901, 0.09211574, 0.0807199 , 0.08609529,\n",
            "       0.0871704 , 0.0898939 , 0.08588027, 0.0807199 , 0.06767556,\n",
            "       0.07362434, 0.08351508, 0.08437517, 0.09068232, 0.08028986,\n",
            "       0.09749114, 0.09433758, 0.10652184, 0.10351159, 0.1025082 ,\n",
            "       0.10931702, 0.10774025, 0.10852866, 0.09756281, 0.08136492,\n",
            "       0.0840168 , 0.09161403, 0.0919724 , 0.08473353, 0.10021469,\n",
            "       0.09706114, 0.09476763, 0.09691779, 0.06638548, 0.0633036 ,\n",
            "       0.06473703, 0.06774723, 0.07971647, 0.08853215, 0.0930475 ,\n",
            "       0.09648775, 0.07362434, 0.0745561 , 0.08695537, 0.10888703]), array([0.13060366, 0.12644668, 0.12515655, 0.11626924, 0.13225211,\n",
            "       0.12960023, 0.11648426, 0.12150128, 0.1155525 , 0.11834773,\n",
            "       0.08946386, 0.09383587, 0.09025227, 0.08939219, 0.08846048,\n",
            "       0.09096901, 0.09211574, 0.0807199 , 0.08609529, 0.0871704 ,\n",
            "       0.0898939 , 0.08588027, 0.0807199 , 0.06767556, 0.07362434,\n",
            "       0.08351508, 0.08437517, 0.09068232, 0.08028986, 0.09749114,\n",
            "       0.09433758, 0.10652184, 0.10351159, 0.1025082 , 0.10931702,\n",
            "       0.10774025, 0.10852866, 0.09756281, 0.08136492, 0.0840168 ,\n",
            "       0.09161403, 0.0919724 , 0.08473353, 0.10021469, 0.09706114,\n",
            "       0.09476763, 0.09691779, 0.06638548, 0.0633036 , 0.06473703,\n",
            "       0.06774723, 0.07971647, 0.08853215, 0.0930475 , 0.09648775,\n",
            "       0.07362434, 0.0745561 , 0.08695537, 0.10888703, 0.13103366])]\n",
            "[0.13103365533398487, 0.1332554947249795]\n"
          ],
          "name": "stdout"
        }
      ]
    },
    {
      "cell_type": "code",
      "metadata": {
        "colab": {
          "base_uri": "https://localhost:8080/"
        },
        "id": "vI8jxbQX_I2b",
        "outputId": "aa7e9746-888b-4077-c3d6-6faeddb06692"
      },
      "source": [
        "x_train,y_train=np.array(x_train),np.array(y_train)\n",
        "x_train=np.reshape(x_train,(x_train.shape[0],x_train.shape[1],1))\n",
        "x_train.shape"
      ],
      "execution_count": 14,
      "outputs": [
        {
          "output_type": "execute_result",
          "data": {
            "text/plain": [
              "(803, 60, 1)"
            ]
          },
          "metadata": {
            "tags": []
          },
          "execution_count": 14
        }
      ]
    },
    {
      "cell_type": "code",
      "metadata": {
        "id": "D4f8Ea6O_SEf"
      },
      "source": [
        "from keras.models import Sequential\n",
        "from keras.layers import Dense,LSTM"
      ],
      "execution_count": 15,
      "outputs": []
    },
    {
      "cell_type": "code",
      "metadata": {
        "id": "vEppazoV_UoF"
      },
      "source": [
        "model=Sequential()\n",
        "model.add(LSTM(50,return_sequences=True,input_shape=(x_train.shape[1],1)))\n",
        "model.add(LSTM(50,return_sequences=False))\n",
        "model.add(Dense(25))\n",
        "model.add(Dense(1))"
      ],
      "execution_count": 16,
      "outputs": []
    },
    {
      "cell_type": "code",
      "metadata": {
        "id": "6hYcCmo7_Xk8"
      },
      "source": [
        "model.compile(optimizer='adam',loss='mean_squared_error')"
      ],
      "execution_count": 17,
      "outputs": []
    },
    {
      "cell_type": "code",
      "metadata": {
        "colab": {
          "base_uri": "https://localhost:8080/"
        },
        "id": "Y5lI6XKt_fVx",
        "outputId": "16ad7a59-36e0-4d45-ec91-9ddc4547ae7d"
      },
      "source": [
        "model.fit(x_train,y_train,batch_size=1,epochs=1)"
      ],
      "execution_count": 18,
      "outputs": [
        {
          "output_type": "stream",
          "text": [
            "803/803 [==============================] - 25s 27ms/step - loss: 0.0055\n"
          ],
          "name": "stdout"
        },
        {
          "output_type": "execute_result",
          "data": {
            "text/plain": [
              "<tensorflow.python.keras.callbacks.History at 0x7f99a336f290>"
            ]
          },
          "metadata": {
            "tags": []
          },
          "execution_count": 18
        }
      ]
    },
    {
      "cell_type": "code",
      "metadata": {
        "id": "VIk6JOBH_iEe"
      },
      "source": [
        "test_data=scaled[train_size-60:,:]\n",
        "x_test=[]\n",
        "y_test=df_1[train_size:,:]\n",
        "for i in range(60,len(test_data)):\n",
        "\tx_test.append(test_data[i-60:i,0])"
      ],
      "execution_count": 19,
      "outputs": []
    },
    {
      "cell_type": "code",
      "metadata": {
        "id": "NZxHdEGa_myJ"
      },
      "source": [
        "x_test=np.array(x_test)\n",
        "x_test=np.reshape(x_test,(x_test.shape[0],x_test.shape[1],1))"
      ],
      "execution_count": 20,
      "outputs": []
    },
    {
      "cell_type": "code",
      "metadata": {
        "id": "xrN1oYCI_wEs"
      },
      "source": [
        "prediction=model.predict(x_test)\n",
        "prediction=scaler.inverse_transform(prediction)"
      ],
      "execution_count": 21,
      "outputs": []
    },
    {
      "cell_type": "code",
      "metadata": {
        "colab": {
          "base_uri": "https://localhost:8080/",
          "height": 513
        },
        "id": "wvmlnIzQAPkr",
        "outputId": "9eb1b0f3-2721-4297-8955-0545b2e5314e"
      },
      "source": [
        "train=data[:train_size]\n",
        "valid=data[train_size:]\n",
        "valid['predictions']=prediction\n",
        "plt.figure(figsize=(12,8))\n",
        "plt.title('Model LM')\n",
        "plt.xlabel('Date')\n",
        "plt.ylabel('close price in rupees')\n",
        "plt.plot(train['Close'])\n",
        "plt.plot(valid[['Close','predictions']])\n",
        "plt.legend(['Train','Valid','predictions'],loc='lower right')\n",
        "plt.show()"
      ],
      "execution_count": 22,
      "outputs": [
        {
          "output_type": "display_data",
          "data": {
            "image/png": "[encoded data removed]",
            "text/plain": [
              "<Figure size 864x576 with 1 Axes>"
            ]
          },
          "metadata": {
            "tags": [],
            "needs_background": "light"
          }
        }
      ]
    },
    {
      "cell_type": "code",
      "metadata": {
        "colab": {
          "base_uri": "https://localhost:8080/",
          "height": 431
        },
        "id": "c90RI7ClBpR0",
        "outputId": "b1701c9d-2960-4da1-9927-604db811849c"
      },
      "source": [
        "valid"
      ],
      "execution_count": 23,
      "outputs": [
        {
          "output_type": "execute_result",
          "data": {
            "text/html": [
              "<div>\n",
              "<style scoped>\n",
              "    .dataframe tbody tr th:only-of-type {\n",
              "        vertical-align: middle;\n",
              "    }\n",
              "\n",
              "    .dataframe tbody tr th {\n",
              "        vertical-align: top;\n",
              "    }\n",
              "\n",
              "    .dataframe thead th {\n",
              "        text-align: right;\n",
              "    }\n",
              "</style>\n",
              "<table border=\"1\" class=\"dataframe\">\n",
              "  <thead>\n",
              "    <tr style=\"text-align: right;\">\n",
              "      <th></th>\n",
              "      <th>Close</th>\n",
              "      <th>predictions</th>\n",
              "    </tr>\n",
              "    <tr>\n",
              "      <th>Date</th>\n",
              "      <th></th>\n",
              "      <th></th>\n",
              "    </tr>\n",
              "  </thead>\n",
              "  <tbody>\n",
              "    <tr>\n",
              "      <th>2019-10-18</th>\n",
              "      <td>359.600006</td>\n",
              "      <td>345.302917</td>\n",
              "    </tr>\n",
              "    <tr>\n",
              "      <th>2019-10-22</th>\n",
              "      <td>354.500000</td>\n",
              "      <td>347.772217</td>\n",
              "    </tr>\n",
              "    <tr>\n",
              "      <th>2019-10-23</th>\n",
              "      <td>356.200012</td>\n",
              "      <td>350.053284</td>\n",
              "    </tr>\n",
              "    <tr>\n",
              "      <th>2019-10-24</th>\n",
              "      <td>359.899994</td>\n",
              "      <td>352.147949</td>\n",
              "    </tr>\n",
              "    <tr>\n",
              "      <th>2019-10-25</th>\n",
              "      <td>362.250000</td>\n",
              "      <td>354.232086</td>\n",
              "    </tr>\n",
              "    <tr>\n",
              "      <th>...</th>\n",
              "      <td>...</td>\n",
              "      <td>...</td>\n",
              "    </tr>\n",
              "    <tr>\n",
              "      <th>2021-04-08</th>\n",
              "      <td>918.400024</td>\n",
              "      <td>777.603577</td>\n",
              "    </tr>\n",
              "    <tr>\n",
              "      <th>2021-04-09</th>\n",
              "      <td>899.500000</td>\n",
              "      <td>794.666443</td>\n",
              "    </tr>\n",
              "    <tr>\n",
              "      <th>2021-04-12</th>\n",
              "      <td>851.549988</td>\n",
              "      <td>809.179443</td>\n",
              "    </tr>\n",
              "    <tr>\n",
              "      <th>2021-04-13</th>\n",
              "      <td>879.000000</td>\n",
              "      <td>816.745056</td>\n",
              "    </tr>\n",
              "    <tr>\n",
              "      <th>2021-04-15</th>\n",
              "      <td>898.200012</td>\n",
              "      <td>822.109497</td>\n",
              "    </tr>\n",
              "  </tbody>\n",
              "</table>\n",
              "<p>369 rows × 2 columns</p>\n",
              "</div>"
            ],
            "text/plain": [
              "                 Close  predictions\n",
              "Date                               \n",
              "2019-10-18  359.600006   345.302917\n",
              "2019-10-22  354.500000   347.772217\n",
              "2019-10-23  356.200012   350.053284\n",
              "2019-10-24  359.899994   352.147949\n",
              "2019-10-25  362.250000   354.232086\n",
              "...                ...          ...\n",
              "2021-04-08  918.400024   777.603577\n",
              "2021-04-09  899.500000   794.666443\n",
              "2021-04-12  851.549988   809.179443\n",
              "2021-04-13  879.000000   816.745056\n",
              "2021-04-15  898.200012   822.109497\n",
              "\n",
              "[369 rows x 2 columns]"
            ]
          },
          "metadata": {
            "tags": []
          },
          "execution_count": 23
        }
      ]
    },
    {
      "cell_type": "markdown",
      "metadata": {
        "id": "HHgNmfrJDXzr"
      },
      "source": [
        "# Sentiment Analysis"
      ]
    },
    {
      "cell_type": "code",
      "metadata": {
        "colab": {
          "base_uri": "https://localhost:8080/",
          "height": 195
        },
        "id": "tX8RLNt-BsAk",
        "outputId": "4b930b40-d577-4d1e-e1bf-971a9d5418f8"
      },
      "source": [
        "raw=pd.read_csv('india-news-headlines.csv')\n",
        "raw.head()"
      ],
      "execution_count": 24,
      "outputs": [
        {
          "output_type": "execute_result",
          "data": {
            "text/html": [
              "<div>\n",
              "<style scoped>\n",
              "    .dataframe tbody tr th:only-of-type {\n",
              "        vertical-align: middle;\n",
              "    }\n",
              "\n",
              "    .dataframe tbody tr th {\n",
              "        vertical-align: top;\n",
              "    }\n",
              "\n",
              "    .dataframe thead th {\n",
              "        text-align: right;\n",
              "    }\n",
              "</style>\n",
              "<table border=\"1\" class=\"dataframe\">\n",
              "  <thead>\n",
              "    <tr style=\"text-align: right;\">\n",
              "      <th></th>\n",
              "      <th>publish_date</th>\n",
              "      <th>headline_category</th>\n",
              "      <th>headline_text</th>\n",
              "    </tr>\n",
              "  </thead>\n",
              "  <tbody>\n",
              "    <tr>\n",
              "      <th>0</th>\n",
              "      <td>20010102</td>\n",
              "      <td>unknown</td>\n",
              "      <td>Status quo will not be disturbed at Ayodhya; s...</td>\n",
              "    </tr>\n",
              "    <tr>\n",
              "      <th>1</th>\n",
              "      <td>20010102</td>\n",
              "      <td>unknown</td>\n",
              "      <td>Fissures in Hurriyat over Pak visit</td>\n",
              "    </tr>\n",
              "    <tr>\n",
              "      <th>2</th>\n",
              "      <td>20010102</td>\n",
              "      <td>unknown</td>\n",
              "      <td>America's unwanted heading for India?</td>\n",
              "    </tr>\n",
              "    <tr>\n",
              "      <th>3</th>\n",
              "      <td>20010102</td>\n",
              "      <td>unknown</td>\n",
              "      <td>For bigwigs; it is destination Goa</td>\n",
              "    </tr>\n",
              "    <tr>\n",
              "      <th>4</th>\n",
              "      <td>20010102</td>\n",
              "      <td>unknown</td>\n",
              "      <td>Extra buses to clear tourist traffic</td>\n",
              "    </tr>\n",
              "  </tbody>\n",
              "</table>\n",
              "</div>"
            ],
            "text/plain": [
              "   publish_date  ...                                      headline_text\n",
              "0      20010102  ...  Status quo will not be disturbed at Ayodhya; s...\n",
              "1      20010102  ...                Fissures in Hurriyat over Pak visit\n",
              "2      20010102  ...              America's unwanted heading for India?\n",
              "3      20010102  ...                 For bigwigs; it is destination Goa\n",
              "4      20010102  ...               Extra buses to clear tourist traffic\n",
              "\n",
              "[5 rows x 3 columns]"
            ]
          },
          "metadata": {
            "tags": []
          },
          "execution_count": 24
        }
      ]
    },
    {
      "cell_type": "code",
      "metadata": {
        "colab": {
          "base_uri": "https://localhost:8080/",
          "height": 195
        },
        "id": "QhlTrbpFDWNi",
        "outputId": "80abf614-70b1-430e-acae-c3aec1e3e289"
      },
      "source": [
        "raw.tail()"
      ],
      "execution_count": 25,
      "outputs": [
        {
          "output_type": "execute_result",
          "data": {
            "text/html": [
              "<div>\n",
              "<style scoped>\n",
              "    .dataframe tbody tr th:only-of-type {\n",
              "        vertical-align: middle;\n",
              "    }\n",
              "\n",
              "    .dataframe tbody tr th {\n",
              "        vertical-align: top;\n",
              "    }\n",
              "\n",
              "    .dataframe thead th {\n",
              "        text-align: right;\n",
              "    }\n",
              "</style>\n",
              "<table border=\"1\" class=\"dataframe\">\n",
              "  <thead>\n",
              "    <tr style=\"text-align: right;\">\n",
              "      <th></th>\n",
              "      <th>publish_date</th>\n",
              "      <th>headline_category</th>\n",
              "      <th>headline_text</th>\n",
              "    </tr>\n",
              "  </thead>\n",
              "  <tbody>\n",
              "    <tr>\n",
              "      <th>3424062</th>\n",
              "      <td>20201231</td>\n",
              "      <td>city.jodhpur</td>\n",
              "      <td>Covid-19: Despite dip in cases; Rajasthan amon...</td>\n",
              "    </tr>\n",
              "    <tr>\n",
              "      <th>3424063</th>\n",
              "      <td>20201231</td>\n",
              "      <td>city.udaipur</td>\n",
              "      <td>Covid-19: Despite dip in cases; Rajasthan amon...</td>\n",
              "    </tr>\n",
              "    <tr>\n",
              "      <th>3424064</th>\n",
              "      <td>20201231</td>\n",
              "      <td>city.ajmer</td>\n",
              "      <td>Covid-19: Despite dip in cases; Rajasthan amon...</td>\n",
              "    </tr>\n",
              "    <tr>\n",
              "      <th>3424065</th>\n",
              "      <td>20201231</td>\n",
              "      <td>removed</td>\n",
              "      <td>Govt extends deadline for use of FASTag till F...</td>\n",
              "    </tr>\n",
              "    <tr>\n",
              "      <th>3424066</th>\n",
              "      <td>20201231</td>\n",
              "      <td>entertainment.bengali.movies.news</td>\n",
              "      <td>Celebs plan to party safely and responsibly on...</td>\n",
              "    </tr>\n",
              "  </tbody>\n",
              "</table>\n",
              "</div>"
            ],
            "text/plain": [
              "         publish_date  ...                                      headline_text\n",
              "3424062      20201231  ...  Covid-19: Despite dip in cases; Rajasthan amon...\n",
              "3424063      20201231  ...  Covid-19: Despite dip in cases; Rajasthan amon...\n",
              "3424064      20201231  ...  Covid-19: Despite dip in cases; Rajasthan amon...\n",
              "3424065      20201231  ...  Govt extends deadline for use of FASTag till F...\n",
              "3424066      20201231  ...  Celebs plan to party safely and responsibly on...\n",
              "\n",
              "[5 rows x 3 columns]"
            ]
          },
          "metadata": {
            "tags": []
          },
          "execution_count": 25
        }
      ]
    },
    {
      "cell_type": "code",
      "metadata": {
        "colab": {
          "base_uri": "https://localhost:8080/",
          "height": 402
        },
        "id": "fkMsOjFtDeXi",
        "outputId": "7f6bdd9c-6da4-483c-e811-791940d4d5e3"
      },
      "source": [
        "raw_df=raw[['headline_text']].copy()\n",
        "raw_df"
      ],
      "execution_count": 26,
      "outputs": [
        {
          "output_type": "execute_result",
          "data": {
            "text/html": [
              "<div>\n",
              "<style scoped>\n",
              "    .dataframe tbody tr th:only-of-type {\n",
              "        vertical-align: middle;\n",
              "    }\n",
              "\n",
              "    .dataframe tbody tr th {\n",
              "        vertical-align: top;\n",
              "    }\n",
              "\n",
              "    .dataframe thead th {\n",
              "        text-align: right;\n",
              "    }\n",
              "</style>\n",
              "<table border=\"1\" class=\"dataframe\">\n",
              "  <thead>\n",
              "    <tr style=\"text-align: right;\">\n",
              "      <th></th>\n",
              "      <th>headline_text</th>\n",
              "    </tr>\n",
              "  </thead>\n",
              "  <tbody>\n",
              "    <tr>\n",
              "      <th>0</th>\n",
              "      <td>Status quo will not be disturbed at Ayodhya; s...</td>\n",
              "    </tr>\n",
              "    <tr>\n",
              "      <th>1</th>\n",
              "      <td>Fissures in Hurriyat over Pak visit</td>\n",
              "    </tr>\n",
              "    <tr>\n",
              "      <th>2</th>\n",
              "      <td>America's unwanted heading for India?</td>\n",
              "    </tr>\n",
              "    <tr>\n",
              "      <th>3</th>\n",
              "      <td>For bigwigs; it is destination Goa</td>\n",
              "    </tr>\n",
              "    <tr>\n",
              "      <th>4</th>\n",
              "      <td>Extra buses to clear tourist traffic</td>\n",
              "    </tr>\n",
              "    <tr>\n",
              "      <th>...</th>\n",
              "      <td>...</td>\n",
              "    </tr>\n",
              "    <tr>\n",
              "      <th>3424062</th>\n",
              "      <td>Covid-19: Despite dip in cases; Rajasthan amon...</td>\n",
              "    </tr>\n",
              "    <tr>\n",
              "      <th>3424063</th>\n",
              "      <td>Covid-19: Despite dip in cases; Rajasthan amon...</td>\n",
              "    </tr>\n",
              "    <tr>\n",
              "      <th>3424064</th>\n",
              "      <td>Covid-19: Despite dip in cases; Rajasthan amon...</td>\n",
              "    </tr>\n",
              "    <tr>\n",
              "      <th>3424065</th>\n",
              "      <td>Govt extends deadline for use of FASTag till F...</td>\n",
              "    </tr>\n",
              "    <tr>\n",
              "      <th>3424066</th>\n",
              "      <td>Celebs plan to party safely and responsibly on...</td>\n",
              "    </tr>\n",
              "  </tbody>\n",
              "</table>\n",
              "<p>3424067 rows × 1 columns</p>\n",
              "</div>"
            ],
            "text/plain": [
              "                                             headline_text\n",
              "0        Status quo will not be disturbed at Ayodhya; s...\n",
              "1                      Fissures in Hurriyat over Pak visit\n",
              "2                    America's unwanted heading for India?\n",
              "3                       For bigwigs; it is destination Goa\n",
              "4                     Extra buses to clear tourist traffic\n",
              "...                                                    ...\n",
              "3424062  Covid-19: Despite dip in cases; Rajasthan amon...\n",
              "3424063  Covid-19: Despite dip in cases; Rajasthan amon...\n",
              "3424064  Covid-19: Despite dip in cases; Rajasthan amon...\n",
              "3424065  Govt extends deadline for use of FASTag till F...\n",
              "3424066  Celebs plan to party safely and responsibly on...\n",
              "\n",
              "[3424067 rows x 1 columns]"
            ]
          },
          "metadata": {
            "tags": []
          },
          "execution_count": 26
        }
      ]
    },
    {
      "cell_type": "code",
      "metadata": {
        "colab": {
          "base_uri": "https://localhost:8080/",
          "height": 195
        },
        "id": "2P9qH5a6FQxC",
        "outputId": "d10fb2e2-b59a-479e-cf49-6b305f72533e"
      },
      "source": [
        "raw_df.head()"
      ],
      "execution_count": 27,
      "outputs": [
        {
          "output_type": "execute_result",
          "data": {
            "text/html": [
              "<div>\n",
              "<style scoped>\n",
              "    .dataframe tbody tr th:only-of-type {\n",
              "        vertical-align: middle;\n",
              "    }\n",
              "\n",
              "    .dataframe tbody tr th {\n",
              "        vertical-align: top;\n",
              "    }\n",
              "\n",
              "    .dataframe thead th {\n",
              "        text-align: right;\n",
              "    }\n",
              "</style>\n",
              "<table border=\"1\" class=\"dataframe\">\n",
              "  <thead>\n",
              "    <tr style=\"text-align: right;\">\n",
              "      <th></th>\n",
              "      <th>headline_text</th>\n",
              "    </tr>\n",
              "  </thead>\n",
              "  <tbody>\n",
              "    <tr>\n",
              "      <th>0</th>\n",
              "      <td>Status quo will not be disturbed at Ayodhya; s...</td>\n",
              "    </tr>\n",
              "    <tr>\n",
              "      <th>1</th>\n",
              "      <td>Fissures in Hurriyat over Pak visit</td>\n",
              "    </tr>\n",
              "    <tr>\n",
              "      <th>2</th>\n",
              "      <td>America's unwanted heading for India?</td>\n",
              "    </tr>\n",
              "    <tr>\n",
              "      <th>3</th>\n",
              "      <td>For bigwigs; it is destination Goa</td>\n",
              "    </tr>\n",
              "    <tr>\n",
              "      <th>4</th>\n",
              "      <td>Extra buses to clear tourist traffic</td>\n",
              "    </tr>\n",
              "  </tbody>\n",
              "</table>\n",
              "</div>"
            ],
            "text/plain": [
              "                                       headline_text\n",
              "0  Status quo will not be disturbed at Ayodhya; s...\n",
              "1                Fissures in Hurriyat over Pak visit\n",
              "2              America's unwanted heading for India?\n",
              "3                 For bigwigs; it is destination Goa\n",
              "4               Extra buses to clear tourist traffic"
            ]
          },
          "metadata": {
            "tags": []
          },
          "execution_count": 27
        }
      ]
    },
    {
      "cell_type": "code",
      "metadata": {
        "colab": {
          "base_uri": "https://localhost:8080/"
        },
        "id": "ehfgy0LpFTbb",
        "outputId": "39614d8a-9be4-4d21-8fb3-726541073c9e"
      },
      "source": [
        "raw_df.isnull().sum()"
      ],
      "execution_count": 28,
      "outputs": [
        {
          "output_type": "execute_result",
          "data": {
            "text/plain": [
              "headline_text    0\n",
              "dtype: int64"
            ]
          },
          "metadata": {
            "tags": []
          },
          "execution_count": 28
        }
      ]
    },
    {
      "cell_type": "code",
      "metadata": {
        "colab": {
          "base_uri": "https://localhost:8080/",
          "height": 195
        },
        "id": "inIPjpB-NM0c",
        "outputId": "8c3eeb67-36f1-4fdd-e413-3e5391e9d60e"
      },
      "source": [
        "raw_df=raw_df.iloc[:15000,:]\n",
        "raw_df.head()"
      ],
      "execution_count": 29,
      "outputs": [
        {
          "output_type": "execute_result",
          "data": {
            "text/html": [
              "<div>\n",
              "<style scoped>\n",
              "    .dataframe tbody tr th:only-of-type {\n",
              "        vertical-align: middle;\n",
              "    }\n",
              "\n",
              "    .dataframe tbody tr th {\n",
              "        vertical-align: top;\n",
              "    }\n",
              "\n",
              "    .dataframe thead th {\n",
              "        text-align: right;\n",
              "    }\n",
              "</style>\n",
              "<table border=\"1\" class=\"dataframe\">\n",
              "  <thead>\n",
              "    <tr style=\"text-align: right;\">\n",
              "      <th></th>\n",
              "      <th>headline_text</th>\n",
              "    </tr>\n",
              "  </thead>\n",
              "  <tbody>\n",
              "    <tr>\n",
              "      <th>0</th>\n",
              "      <td>Status quo will not be disturbed at Ayodhya; s...</td>\n",
              "    </tr>\n",
              "    <tr>\n",
              "      <th>1</th>\n",
              "      <td>Fissures in Hurriyat over Pak visit</td>\n",
              "    </tr>\n",
              "    <tr>\n",
              "      <th>2</th>\n",
              "      <td>America's unwanted heading for India?</td>\n",
              "    </tr>\n",
              "    <tr>\n",
              "      <th>3</th>\n",
              "      <td>For bigwigs; it is destination Goa</td>\n",
              "    </tr>\n",
              "    <tr>\n",
              "      <th>4</th>\n",
              "      <td>Extra buses to clear tourist traffic</td>\n",
              "    </tr>\n",
              "  </tbody>\n",
              "</table>\n",
              "</div>"
            ],
            "text/plain": [
              "                                       headline_text\n",
              "0  Status quo will not be disturbed at Ayodhya; s...\n",
              "1                Fissures in Hurriyat over Pak visit\n",
              "2              America's unwanted heading for India?\n",
              "3                 For bigwigs; it is destination Goa\n",
              "4               Extra buses to clear tourist traffic"
            ]
          },
          "metadata": {
            "tags": []
          },
          "execution_count": 29
        }
      ]
    },
    {
      "cell_type": "code",
      "metadata": {
        "colab": {
          "base_uri": "https://localhost:8080/"
        },
        "id": "qdFnOmVEN-j7",
        "outputId": "cd0e3b4c-a162-4856-e7c5-5ffb8e59e1a7"
      },
      "source": [
        "raw_df.shape"
      ],
      "execution_count": 30,
      "outputs": [
        {
          "output_type": "execute_result",
          "data": {
            "text/plain": [
              "(15000, 1)"
            ]
          },
          "metadata": {
            "tags": []
          },
          "execution_count": 30
        }
      ]
    },
    {
      "cell_type": "code",
      "metadata": {
        "id": "6K0NXAbwI84m"
      },
      "source": [
        "import nltk\n",
        "from nltk.sentiment.vader import SentimentIntensityAnalyzer\n"
      ],
      "execution_count": 31,
      "outputs": []
    },
    {
      "cell_type": "code",
      "metadata": {
        "colab": {
          "base_uri": "https://localhost:8080/"
        },
        "id": "byU09vwdJGt9",
        "outputId": "3bf016d7-d3a5-43fc-924e-4daa374134cc"
      },
      "source": [
        "nltk.download('vader_lexicon')\n",
        "nltk.download('stopwords')"
      ],
      "execution_count": 32,
      "outputs": [
        {
          "output_type": "stream",
          "text": [
            "[nltk_data] Downloading package vader_lexicon to /root/nltk_data...\n",
            "[nltk_data] Downloading package stopwords to /root/nltk_data...\n",
            "[nltk_data]   Unzipping corpora/stopwords.zip.\n"
          ],
          "name": "stdout"
        },
        {
          "output_type": "execute_result",
          "data": {
            "text/plain": [
              "True"
            ]
          },
          "metadata": {
            "tags": []
          },
          "execution_count": 32
        }
      ]
    },
    {
      "cell_type": "code",
      "metadata": {
        "colab": {
          "base_uri": "https://localhost:8080/",
          "height": 195
        },
        "id": "8rH6pVFmJR9_",
        "outputId": "2ac93632-8f02-42d8-fdac-695c463fc6d5"
      },
      "source": [
        "sid=SentimentIntensityAnalyzer()\n",
        "result=[]\n",
        "for line in raw_df['headline_text']:\n",
        "\tscores=sid.polarity_scores(line)\n",
        "\tscores['headline']=line\n",
        "\tresult.append(scores)\n",
        "rev=pd.DataFrame(result)\n",
        "rev.head()"
      ],
      "execution_count": 33,
      "outputs": [
        {
          "output_type": "execute_result",
          "data": {
            "text/html": [
              "<div>\n",
              "<style scoped>\n",
              "    .dataframe tbody tr th:only-of-type {\n",
              "        vertical-align: middle;\n",
              "    }\n",
              "\n",
              "    .dataframe tbody tr th {\n",
              "        vertical-align: top;\n",
              "    }\n",
              "\n",
              "    .dataframe thead th {\n",
              "        text-align: right;\n",
              "    }\n",
              "</style>\n",
              "<table border=\"1\" class=\"dataframe\">\n",
              "  <thead>\n",
              "    <tr style=\"text-align: right;\">\n",
              "      <th></th>\n",
              "      <th>neg</th>\n",
              "      <th>neu</th>\n",
              "      <th>pos</th>\n",
              "      <th>compound</th>\n",
              "      <th>headline</th>\n",
              "    </tr>\n",
              "  </thead>\n",
              "  <tbody>\n",
              "    <tr>\n",
              "      <th>0</th>\n",
              "      <td>0.000</td>\n",
              "      <td>0.805</td>\n",
              "      <td>0.195</td>\n",
              "      <td>0.2924</td>\n",
              "      <td>Status quo will not be disturbed at Ayodhya; s...</td>\n",
              "    </tr>\n",
              "    <tr>\n",
              "      <th>1</th>\n",
              "      <td>0.000</td>\n",
              "      <td>1.000</td>\n",
              "      <td>0.000</td>\n",
              "      <td>0.0000</td>\n",
              "      <td>Fissures in Hurriyat over Pak visit</td>\n",
              "    </tr>\n",
              "    <tr>\n",
              "      <th>2</th>\n",
              "      <td>0.322</td>\n",
              "      <td>0.678</td>\n",
              "      <td>0.000</td>\n",
              "      <td>-0.2263</td>\n",
              "      <td>America's unwanted heading for India?</td>\n",
              "    </tr>\n",
              "    <tr>\n",
              "      <th>3</th>\n",
              "      <td>0.000</td>\n",
              "      <td>1.000</td>\n",
              "      <td>0.000</td>\n",
              "      <td>0.0000</td>\n",
              "      <td>For bigwigs; it is destination Goa</td>\n",
              "    </tr>\n",
              "    <tr>\n",
              "      <th>4</th>\n",
              "      <td>0.000</td>\n",
              "      <td>0.658</td>\n",
              "      <td>0.342</td>\n",
              "      <td>0.3818</td>\n",
              "      <td>Extra buses to clear tourist traffic</td>\n",
              "    </tr>\n",
              "  </tbody>\n",
              "</table>\n",
              "</div>"
            ],
            "text/plain": [
              "     neg    neu  ...  compound                                           headline\n",
              "0  0.000  0.805  ...    0.2924  Status quo will not be disturbed at Ayodhya; s...\n",
              "1  0.000  1.000  ...    0.0000                Fissures in Hurriyat over Pak visit\n",
              "2  0.322  0.678  ...   -0.2263              America's unwanted heading for India?\n",
              "3  0.000  1.000  ...    0.0000                 For bigwigs; it is destination Goa\n",
              "4  0.000  0.658  ...    0.3818               Extra buses to clear tourist traffic\n",
              "\n",
              "[5 rows x 5 columns]"
            ]
          },
          "metadata": {
            "tags": []
          },
          "execution_count": 33
        }
      ]
    },
    {
      "cell_type": "code",
      "metadata": {
        "colab": {
          "base_uri": "https://localhost:8080/"
        },
        "id": "fC18BKzQK_fc",
        "outputId": "4bdcaffa-bd24-47fe-85da-441990dca340"
      },
      "source": [
        "rev.shape"
      ],
      "execution_count": 34,
      "outputs": [
        {
          "output_type": "execute_result",
          "data": {
            "text/plain": [
              "(15000, 5)"
            ]
          },
          "metadata": {
            "tags": []
          },
          "execution_count": 34
        }
      ]
    },
    {
      "cell_type": "code",
      "metadata": {
        "colab": {
          "base_uri": "https://localhost:8080/",
          "height": 195
        },
        "id": "uG88gITgORMa",
        "outputId": "09df8c4e-e7d7-45b8-92f0-c595305f531c"
      },
      "source": [
        "ratings=[]\n",
        "for row in rev['compound']:\n",
        "  if row >= 0.05 :\n",
        "      ratings.append(1)\n",
        "  elif row <= - 0.05 :\n",
        "    ratings.append(-1)\n",
        "  else :\n",
        "    ratings.append(0)\n",
        "\n",
        "rev['scores']=ratings\n",
        "rev.head()"
      ],
      "execution_count": 35,
      "outputs": [
        {
          "output_type": "execute_result",
          "data": {
            "text/html": [
              "<div>\n",
              "<style scoped>\n",
              "    .dataframe tbody tr th:only-of-type {\n",
              "        vertical-align: middle;\n",
              "    }\n",
              "\n",
              "    .dataframe tbody tr th {\n",
              "        vertical-align: top;\n",
              "    }\n",
              "\n",
              "    .dataframe thead th {\n",
              "        text-align: right;\n",
              "    }\n",
              "</style>\n",
              "<table border=\"1\" class=\"dataframe\">\n",
              "  <thead>\n",
              "    <tr style=\"text-align: right;\">\n",
              "      <th></th>\n",
              "      <th>neg</th>\n",
              "      <th>neu</th>\n",
              "      <th>pos</th>\n",
              "      <th>compound</th>\n",
              "      <th>headline</th>\n",
              "      <th>scores</th>\n",
              "    </tr>\n",
              "  </thead>\n",
              "  <tbody>\n",
              "    <tr>\n",
              "      <th>0</th>\n",
              "      <td>0.000</td>\n",
              "      <td>0.805</td>\n",
              "      <td>0.195</td>\n",
              "      <td>0.2924</td>\n",
              "      <td>Status quo will not be disturbed at Ayodhya; s...</td>\n",
              "      <td>1</td>\n",
              "    </tr>\n",
              "    <tr>\n",
              "      <th>1</th>\n",
              "      <td>0.000</td>\n",
              "      <td>1.000</td>\n",
              "      <td>0.000</td>\n",
              "      <td>0.0000</td>\n",
              "      <td>Fissures in Hurriyat over Pak visit</td>\n",
              "      <td>0</td>\n",
              "    </tr>\n",
              "    <tr>\n",
              "      <th>2</th>\n",
              "      <td>0.322</td>\n",
              "      <td>0.678</td>\n",
              "      <td>0.000</td>\n",
              "      <td>-0.2263</td>\n",
              "      <td>America's unwanted heading for India?</td>\n",
              "      <td>-1</td>\n",
              "    </tr>\n",
              "    <tr>\n",
              "      <th>3</th>\n",
              "      <td>0.000</td>\n",
              "      <td>1.000</td>\n",
              "      <td>0.000</td>\n",
              "      <td>0.0000</td>\n",
              "      <td>For bigwigs; it is destination Goa</td>\n",
              "      <td>0</td>\n",
              "    </tr>\n",
              "    <tr>\n",
              "      <th>4</th>\n",
              "      <td>0.000</td>\n",
              "      <td>0.658</td>\n",
              "      <td>0.342</td>\n",
              "      <td>0.3818</td>\n",
              "      <td>Extra buses to clear tourist traffic</td>\n",
              "      <td>1</td>\n",
              "    </tr>\n",
              "  </tbody>\n",
              "</table>\n",
              "</div>"
            ],
            "text/plain": [
              "     neg    neu  ...                                           headline  scores\n",
              "0  0.000  0.805  ...  Status quo will not be disturbed at Ayodhya; s...       1\n",
              "1  0.000  1.000  ...                Fissures in Hurriyat over Pak visit       0\n",
              "2  0.322  0.678  ...              America's unwanted heading for India?      -1\n",
              "3  0.000  1.000  ...                 For bigwigs; it is destination Goa       0\n",
              "4  0.000  0.658  ...               Extra buses to clear tourist traffic       1\n",
              "\n",
              "[5 rows x 6 columns]"
            ]
          },
          "metadata": {
            "tags": []
          },
          "execution_count": 35
        }
      ]
    },
    {
      "cell_type": "code",
      "metadata": {
        "colab": {
          "base_uri": "https://localhost:8080/"
        },
        "id": "z2pLI5WdUhEv",
        "outputId": "227aa431-fc9f-4d28-fb71-2746e1477861"
      },
      "source": [
        "rev['scores'].value_counts()"
      ],
      "execution_count": 36,
      "outputs": [
        {
          "output_type": "execute_result",
          "data": {
            "text/plain": [
              " 0    8145\n",
              "-1    3883\n",
              " 1    2972\n",
              "Name: scores, dtype: int64"
            ]
          },
          "metadata": {
            "tags": []
          },
          "execution_count": 36
        }
      ]
    },
    {
      "cell_type": "code",
      "metadata": {
        "colab": {
          "base_uri": "https://localhost:8080/"
        },
        "id": "DktnZLzJfSFK",
        "outputId": "2a619d0e-dfeb-47a3-daa9-6a19e00d1d18"
      },
      "source": [
        "a=rev['scores'].value_counts(normalize=True)*100\n",
        "a"
      ],
      "execution_count": 37,
      "outputs": [
        {
          "output_type": "execute_result",
          "data": {
            "text/plain": [
              " 0    54.300000\n",
              "-1    25.886667\n",
              " 1    19.813333\n",
              "Name: scores, dtype: float64"
            ]
          },
          "metadata": {
            "tags": []
          },
          "execution_count": 37
        }
      ]
    },
    {
      "cell_type": "code",
      "metadata": {
        "colab": {
          "base_uri": "https://localhost:8080/",
          "height": 281
        },
        "id": "uY49rPgWfgKk",
        "outputId": "d96b9699-35eb-46f4-a5f6-78df99c984cb"
      },
      "source": [
        "import seaborn as sns\n",
        "f = sns.countplot(x='scores', data=rev)\n",
        "f.set_title(\"Sentiment distribution\")\n",
        "f.set_xticklabels(['Negative', 'Neutral','Positive'])\n",
        "plt.xlabel(\"\");"
      ],
      "execution_count": 39,
      "outputs": [
        {
          "output_type": "display_data",
          "data": {
            "image/png": "[encoded data removed]",
            "text/plain": [
              "<Figure size 432x288 with 1 Axes>"
            ]
          },
          "metadata": {
            "tags": [],
            "needs_background": "light"
          }
        }
      ]
    },
    {
      "cell_type": "code",
      "metadata": {
        "colab": {
          "base_uri": "https://localhost:8080/",
          "height": 216
        },
        "id": "4GHOB7JVjK5x",
        "outputId": "34ad3f1f-3cf3-444d-e337-bfa1c49d1637"
      },
      "source": [
        "from wordcloud import WordCloud\n",
        "from nltk.corpus import stopwords\n",
        "text = \" \".join(review for review in rev.headline)\n",
        "plt.figure(figsize=(12,8))\n",
        "wordcloud = WordCloud(max_font_size=50, max_words=100, background_color=\"white\", stopwords=stopwords.words(\"english\")).generate(text)\n",
        "plt.figure()\n",
        "plt.imshow(wordcloud, interpolation=\"bilinear\")\n",
        "plt.axis(\"off\")\n",
        "plt.show();"
      ],
      "execution_count": 40,
      "outputs": [
        {
          "output_type": "display_data",
          "data": {
            "text/plain": [
              "<Figure size 864x576 with 0 Axes>"
            ]
          },
          "metadata": {
            "tags": []
          }
        },
        {
          "output_type": "display_data",
          "data": {
            "image/png": "[encoded data removed]",
            "text/plain": [
              "<Figure size 432x288 with 1 Axes>"
            ]
          },
          "metadata": {
            "tags": [],
            "needs_background": "light"
          }
        }
      ]
    },
    {
      "cell_type": "code",
      "metadata": {
        "id": "yAj4ZlBgkWa1",
        "colab": {
          "base_uri": "https://localhost:8080/"
        },
        "outputId": "66a1ff95-425b-4e32-d726-4bd528682805"
      },
      "source": [
        "z=rev['headline'].values.tolist()\n",
        "z[0:5]"
      ],
      "execution_count": 44,
      "outputs": [
        {
          "output_type": "execute_result",
          "data": {
            "text/plain": [
              "['Status quo will not be disturbed at Ayodhya; says Vajpayee',\n",
              " 'Fissures in Hurriyat over Pak visit',\n",
              " \"America's unwanted heading for India?\",\n",
              " 'For bigwigs; it is destination Goa',\n",
              " 'Extra buses to clear tourist traffic']"
            ]
          },
          "metadata": {
            "tags": []
          },
          "execution_count": 44
        }
      ]
    },
    {
      "cell_type": "code",
      "metadata": {
        "id": "cXsv2FSbKShQ"
      },
      "source": [
        "from nltk.tokenize import word_tokenize, RegexpTokenizer\n",
        "from nltk.corpus import stopwords\n",
        "\n",
        "stop_words = stopwords.words('english')\n",
        "tokenizer = RegexpTokenizer(r'\\w+')"
      ],
      "execution_count": 52,
      "outputs": []
    },
    {
      "cell_type": "code",
      "metadata": {
        "id": "bz6zWR-LKn3P"
      },
      "source": [
        "def process_text(z):\n",
        "    tokens = []\n",
        "    for line in z:\n",
        "        toks = tokenizer.tokenize(line)\n",
        "        toks = [t.lower() for t in toks if t.lower() not in stop_words]\n",
        "        tokens.extend(toks)\n",
        "    \n",
        "    return tokens"
      ],
      "execution_count": 53,
      "outputs": []
    },
    {
      "cell_type": "code",
      "metadata": {
        "colab": {
          "base_uri": "https://localhost:8080/"
        },
        "id": "nQmH9GKmKy4F",
        "outputId": "0b75df04-d5b9-4ed5-c623-51b885162830"
      },
      "source": [
        "pos_lines = list(rev[rev.scores == 1].headline)\n",
        "\n",
        "pos_tokens = process_text(pos_lines)\n",
        "pos_freq = nltk.FreqDist(pos_tokens)\n",
        "\n",
        "pos_freq.most_common(20)"
      ],
      "execution_count": 54,
      "outputs": [
        {
          "output_type": "execute_result",
          "data": {
            "text/plain": [
              "[('govt', 125),\n",
              " ('straight', 94),\n",
              " ('answers', 86),\n",
              " ('india', 84),\n",
              " ('relief', 60),\n",
              " ('top', 59),\n",
              " ('security', 57),\n",
              " ('help', 53),\n",
              " ('rs', 49),\n",
              " ('peace', 48),\n",
              " ('best', 44),\n",
              " ('us', 44),\n",
              " ('good', 43),\n",
              " ('new', 43),\n",
              " ('support', 40),\n",
              " ('indian', 39),\n",
              " ('special', 39),\n",
              " ('cm', 38),\n",
              " ('centre', 38),\n",
              " ('party', 36)]"
            ]
          },
          "metadata": {
            "tags": []
          },
          "execution_count": 54
        }
      ]
    },
    {
      "cell_type": "code",
      "metadata": {
        "colab": {
          "base_uri": "https://localhost:8080/"
        },
        "id": "J_wBaMiNK9A9",
        "outputId": "204c30f3-9c9b-462c-967d-4030c8a8b518"
      },
      "source": [
        "neg_lines = list(rev[rev.scores == -1].headline)\n",
        "\n",
        "neg_tokens = process_text(neg_lines)\n",
        "neg_freq = nltk.FreqDist(neg_tokens)\n",
        "\n",
        "neg_freq.most_common(20)"
      ],
      "execution_count": 55,
      "outputs": [
        {
          "output_type": "execute_result",
          "data": {
            "text/plain": [
              "[('govt', 162),\n",
              " ('killed', 148),\n",
              " ('police', 99),\n",
              " ('case', 89),\n",
              " ('death', 87),\n",
              " ('india', 81),\n",
              " ('murder', 71),\n",
              " ('strike', 66),\n",
              " ('dead', 66),\n",
              " ('arrested', 61),\n",
              " ('held', 60),\n",
              " ('bjp', 58),\n",
              " ('attack', 58),\n",
              " ('accused', 56),\n",
              " ('3', 55),\n",
              " ('phoolan', 55),\n",
              " ('protest', 54),\n",
              " ('says', 53),\n",
              " ('ban', 52),\n",
              " ('fire', 48)]"
            ]
          },
          "metadata": {
            "tags": []
          },
          "execution_count": 55
        }
      ]
    }
  ]
}